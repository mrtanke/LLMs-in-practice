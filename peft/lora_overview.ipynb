{
 "cells": [
  {
   "cell_type": "markdown",
   "id": "0d4b3d56-c370-43e5-9dcd-7d4528c547bc",
   "metadata": {},
   "source": [
    "# LoRA Basics Summary\n",
    "\n",
    "## 1. What is LoRA?\n",
    "- **LoRA = Low-Rank Adaptation of Large Language Models**\n",
    "- Belongs to **PEFT (Parameter Efficient Fine-Tuning)**\n",
    "- Key idea:  \n",
    "  - Freeze pretrained model weights  \n",
    "  - Inject small trainable low-rank matrices (adapters) into transformer layers\n",
    "- Benefits\n",
    "    - Parameter efficiency (freeze big model, only train small adapters)\n",
    "    - Memory efficient (works on single GPU for big LLMs)\n",
    "    - Modular (can swap adapters for different tasks)"
   ]
  },
  {
   "cell_type": "markdown",
   "id": "4d77a718-53c0-4016-a043-4902406a1d7b",
   "metadata": {},
   "source": [
    "## 2. Core Mechanism\n",
    "- Adaptor of pretrained model\n",
    "    - adaptor is small\n",
    "    - pretrained model is big\n",
    "- Specific operations\n",
    "    - freeze pretrained model weights\n",
    "    - injects trainable rank decomposition matrices\n",
    "        - into each layer of transformer architecture\n",
    "- Lora works mainly on transformer **self-attention projections**: $W_q$, $W_k$, $W_v$, $W_o$\n",
    "    - Full fine-tune first, then do fine-tune, get ΔW\n",
    "        - ΔW indicates the parameters change after fine-tuning, the shape and dimension are very big\n",
    "    - **Lora replace ΔW with low-rank factorization ($W_A$ $W_B$)** -> $ΔW = B A$"
   ]
  },
  {
   "cell_type": "code",
   "execution_count": 7,
   "id": "bd9154ea-0c88-4936-bb9e-7029667f5a8b",
   "metadata": {},
   "outputs": [
    {
     "data": {
      "image/png": "[encoded data removed]",
      "text/plain": [
       "<IPython.core.display.Image object>"
      ]
     },
     "execution_count": 7,
     "metadata": {
      "image/png": {
       "width": 600
      }
     },
     "output_type": "execute_result"
    }
   ],
   "source": [
    "from IPython.display import Image\n",
    "Image(filename='../images/lora.png', width=600)\n",
    "\n",
    "# d = size of hidden_state"
   ]
  },
  {
   "cell_type": "markdown",
   "id": "4d983fc4-2981-4bba-8b3d-c4c2b3beea86",
   "metadata": {},
   "source": [
    "- In LoRA: only update small matrices Θ, much fewer parameters  \n",
    "  - $ΔW ≈ W_A W_B$, where $W_A ∈ R^{(A×r)}$, $W_B ∈ R^{(r×B)}$, $r ≪ A,B$\n",
    "  - Parameter count reduced from $A×B$ to $r×A + r×B$\n",
    "  - Example: A=100, B=500, r=5\n",
    "      - A×B = 50000, r×A + r×B = 3000\n",
    "      - only ~6% of original params"
   ]
  },
  {
   "cell_type": "markdown",
   "id": "c6ea368a-f2a9-4397-9166-4fb66680d020",
   "metadata": {},
   "source": [
    "## 3. Row-vector vs Column-vector Conventions (with LoRA)\n",
    "\n",
    "### 3.1 Column-vector convention (common in math & papers)\n",
    "\n",
    "- Input: a single sample as a **column vector**  \n",
    "$$x ∈ ℝ^{d_{in} × 1}$$\n",
    "\n",
    "- Weight matrix:  \n",
    "$$W ∈ ℝ^{d_{out} × d_{in}}$$\n",
    "\n",
    "- LoRA decomposition:  \n",
    "$$ΔW = B A$$  \n",
    "$$A ∈ ℝ^{r × d_{in}},\\; B ∈ ℝ^{d_{out} × r}$$\n",
    "\n",
    "- Forward pass:  \n",
    "$$y = W x + ΔW x = W x + B (A x)$$  \n",
    "Shapes:  \n",
    "- $A x: (r × d_{in}) @ (d_{in} × 1) → (r × 1)$  \n",
    "- $B (A x): (d_{out} × r) @ (r × 1) → (d_{out} × 1)$  \n",
    "- $y ∈ ℝ^{d_{out} × 1}$  \n",
    "\n",
    "- Batch version: (each column is one sample)  \n",
    "$$X ∈ ℝ^{(d_{in} × B)}$$  \n",
    "$$Y = W X + B (A X)$$  \n",
    "$$Shape: (d_{out} × d_{in}) @ (d_{in} × B) → (d_{out} × B)$$\n",
    "\n",
    "\n",
    "### 3.2 Row-vector convention (common in code frameworks)\n",
    "\n",
    "- Input: a batch as **row vectors** (each row is one sample)  \n",
    "$$X ∈ ℝ^{B × d_{in}}$$  \n",
    "\n",
    "- Weight matrix:  \n",
    "$$W ∈ ℝ^{(d_{out} × d_{in})}$$  \n",
    "\n",
    "- LoRA decomposition:  \n",
    "$$ΔW = B A$$  \n",
    "$$A ∈ ℝ^{r × d_{in}},\\; B ∈ ℝ^{d_{out} × r}$$  \n",
    "\n",
    "- Forward pass:  \n",
    "$$Y = X Wᵀ + (X Aᵀ) Bᵀ$$  \n",
    "Shapes:  \n",
    "- $X Aᵀ: (B × d_{in}) @ (d_{in} × r) → (B × r)$  \n",
    "- $(X Aᵀ) Bᵀ: (B × r) @ (r × d_{out}) → (B × d_{out})$  \n",
    "- $Y ∈ ℝ^{B × d_{out}}$\n",
    "\n",
    "- Single sample (B=1):  \n",
    "$$x ∈ ℝ^{(1 × d_{in})}$$  \n",
    "$$y = x Wᵀ + (x Aᵀ) Bᵀ ∈ ℝ^{(1 × d_{out})}$$\n",
    "\n",
    "\n",
    "### 3.3 Key differences\n",
    "\n",
    "- **Input orientation**:  \n",
    "  - Column-vector: each sample is $(d_{in} × 1)$  \n",
    "  - Row-vector: each sample is $(1 × d_{in})$  \n",
    "\n",
    "- **Formula (LoRA included)**:  \n",
    "  - Column-vector: $y = W x + B (A x)$  \n",
    "  - Row-vector: $y = x Wᵀ + (x Aᵀ) Bᵀ$  \n",
    "\n",
    "- **Batching**:  \n",
    "  - Column-vector: stack as columns $(X ∈ ℝ^{(d_{in} × B)})$  \n",
    "  - Row-vector: stack as rows $(X ∈ ℝ^{(B × d_{in})})$  \n",
    "\n",
    "- **Output shape**:  \n",
    "  - Column-vector: $y ∈ ℝ^{(d_{out} × 1)}$  \n",
    "  - Row-vector: $y ∈ ℝ^{(1 × d_{out})}$  \n",
    "\n",
    "### 3.4 Mental bridge\n",
    "\n",
    "Remember:  \n",
    "- **Math / paper form (column-vector)**:  \n",
    "$$y = W x + B (A x)$$  \n",
    "\n",
    "- **Code / row-vector form**:  \n",
    "$$Y = X Wᵀ + (X Aᵀ) Bᵀ$$\n",
    "\n",
    "---"
   ]
  },
  {
   "cell_type": "markdown",
   "id": "4dff4378-fa0a-424e-9830-38fb785a86d5",
   "metadata": {},
   "source": [
    "## 4 Pseudocode\n",
    "\n",
    "- r is a Hyperparameter: a trade-off between model complexity, adaptation capacity, and the risk of underfitting or overfitting  \n",
    "  - A smaller r leads to a simpler low-rank matrix, which results in fewer parameters to learn during adaptation.  \n",
    "    - This can lead to faster training and potentially reduced computational requirements.  \n",
    "  - However, with a smaller r, the capacity of the low-rank matrix to capture task-specific information decreases.  \n",
    "    - This may result in lower adaptation quality, and the model might not perform as well on the new task compared to a higher r.  \n",
    "\n",
    "\n",
    "```python\n",
    "input_dim = 768   # e.g., the hidden size of the pre-trained model\n",
    "output_dim = 768  # e.g., the output size of the layer\n",
    "rank = 8          # The rank 'r' for the low-rank adaptation\n",
    "\n",
    "W = ...  # from pretrained network with shape input_dim x output_dim\n",
    "\n",
    "W_A = nn.Parameter(torch.empty(input_dim, rank))       # LoRA weight A -> [hidden_states, rank]\n",
    "W_B = nn.Parameter(torch.empty(rank, output_dim))      # LoRA weight B ->  [hidden_states, rank]\n",
    "\n",
    "# Initialization of LoRA weights\n",
    "nn.init.kaiming_uniform_(W_A, a=math.sqrt(5))\n",
    "nn.init.zeros_(W_B)\n",
    "\n",
    "\n",
    "def regular_forward_matmul(x, W):\n",
    "    h = x @ W\n",
    "    return h\n",
    "\n",
    "\n",
    "def lora_forward_matmul(x, W, W_A, W_B):\n",
    "    h = x @ W   # regular matrix multiplication\n",
    "    h += x @ (W_A @ W_B) * alpha   # use scaled LoRA weights\n",
    "    return h\n"
   ]
  }
 ],
 "metadata": {
  "kernelspec": {
   "display_name": "Python 3.10 (bert)",
   "language": "python",
   "name": "py310"
  },
  "language_info": {
   "codemirror_mode": {
    "name": "ipython",
    "version": 3
   },
   "file_extension": ".py",
   "mimetype": "text/x-python",
   "name": "python",
   "nbconvert_exporter": "python",
   "pygments_lexer": "ipython3",
   "version": "3.10.18"
  }
 },
 "nbformat": 4,
 "nbformat_minor": 5
}
